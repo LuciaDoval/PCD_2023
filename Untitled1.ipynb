{
 "cells": [
  {
   "cell_type": "code",
   "execution_count": 1,
   "id": "f1abfb37-9cac-4997-8f18-db0c64009d18",
   "metadata": {},
   "outputs": [],
   "source": [
    "import os, threading as th, time, urllib.request as rq, concurrent as ct, IPython as IP"
   ]
  },
  {
   "cell_type": "code",
   "execution_count": 9,
   "id": "b38fa796-de72-4536-9fd4-d984b50553cf",
   "metadata": {},
   "outputs": [
    {
     "name": "stdin",
     "output_type": "stream",
     "text": [
      "Ingrese el numero de la imagen inicial 1\n"
     ]
    }
   ],
   "source": [
    "img = int (input(\"Ingrese el numero de la imagen inicial\"))"
   ]
  },
  {
   "cell_type": "code",
   "execution_count": 27,
   "id": "f046c7be-0757-4a40-9db8-8b100c52692b",
   "metadata": {},
   "outputs": [],
   "source": [
    "img_url = \"https://storage.cloud.google.com/pcd-images-threads/pic{:03d}.jpeg\".format(img)"
   ]
  },
  {
   "cell_type": "code",
   "execution_count": 28,
   "id": "d42228b4-a674-4fa8-8c70-276e498dd2df",
   "metadata": {},
   "outputs": [
    {
     "data": {
      "text/plain": [
       "'https://storage.cloud.google.com/pcd-images-threads/pic001.jpeg'"
      ]
     },
     "execution_count": 28,
     "metadata": {},
     "output_type": "execute_result"
    }
   ],
   "source": [
    "img_url"
   ]
  },
  {
   "cell_type": "code",
   "execution_count": null,
   "id": "a6cf7cd8-6385-4935-9c7e-235e04783632",
   "metadata": {},
   "outputs": [],
   "source": []
  },
  {
   "cell_type": "code",
   "execution_count": 15,
   "id": "d9263586-d452-46f6-8218-dee7385b4f4b",
   "metadata": {},
   "outputs": [],
   "source": [
    "a_url_ = []"
   ]
  },
  {
   "cell_type": "code",
   "execution_count": 31,
   "id": "e1157a5c-7140-4074-b441-353c9419ca34",
   "metadata": {},
   "outputs": [
    {
     "name": "stdout",
     "output_type": "stream",
     "text": [
      "https://storage.cloud.google.com/pcd-images-threads/pic000jpeg\n",
      "https://storage.cloud.google.com/pcd-images-threads/pic001jpeg\n",
      "https://storage.cloud.google.com/pcd-images-threads/pic002jpeg\n",
      "https://storage.cloud.google.com/pcd-images-threads/pic003jpeg\n",
      "https://storage.cloud.google.com/pcd-images-threads/pic004jpeg\n",
      "https://storage.cloud.google.com/pcd-images-threads/pic005jpeg\n",
      "https://storage.cloud.google.com/pcd-images-threads/pic006jpeg\n",
      "https://storage.cloud.google.com/pcd-images-threads/pic007jpeg\n",
      "https://storage.cloud.google.com/pcd-images-threads/pic008jpeg\n",
      "https://storage.cloud.google.com/pcd-images-threads/pic009jpeg\n"
     ]
    }
   ],
   "source": [
    "for i in range(10):\n",
    "    img_url = \"https://storage.cloud.google.com/pcd-images-threads/pic00\" +str(i) +\"jpeg\"\n",
    "    print(img_url)\n",
    "    a_url.append(img_url)"
   ]
  },
  {
   "cell_type": "code",
   "execution_count": null,
   "id": "60236b75-12e7-4751-bbd9-60eafef9dafb",
   "metadata": {},
   "outputs": [],
   "source": []
  },
  {
   "cell_type": "code",
   "execution_count": 20,
   "id": "7cc023f2-d17f-4585-bf51-e9e515515096",
   "metadata": {},
   "outputs": [
    {
     "data": {
      "text/plain": [
       "['https://storage.googleapis.com/christian_vladimir_sucuzhanay_bucket/pictures_videos/pic{:03d}.jpeg0jpeg',\n",
       " 'https://storage.googleapis.com/christian_vladimir_sucuzhanay_bucket/pictures_videos/pic{:03d}.jpeg1jpeg',\n",
       " 'https://storage.googleapis.com/christian_vladimir_sucuzhanay_bucket/pictures_videos/pic{:03d}.jpeg2jpeg',\n",
       " 'https://storage.googleapis.com/christian_vladimir_sucuzhanay_bucket/pictures_videos/pic{:03d}.jpeg3jpeg',\n",
       " 'https://storage.googleapis.com/christian_vladimir_sucuzhanay_bucket/pictures_videos/pic{:03d}.jpeg4jpeg',\n",
       " 'https://storage.googleapis.com/christian_vladimir_sucuzhanay_bucket/pictures_videos/pic{:03d}.jpeg5jpeg',\n",
       " 'https://storage.googleapis.com/christian_vladimir_sucuzhanay_bucket/pictures_videos/pic{:03d}.jpeg6jpeg',\n",
       " 'https://storage.googleapis.com/christian_vladimir_sucuzhanay_bucket/pictures_videos/pic{:03d}.jpeg7jpeg',\n",
       " 'https://storage.googleapis.com/christian_vladimir_sucuzhanay_bucket/pictures_videos/pic{:03d}.jpeg8jpeg',\n",
       " 'https://storage.googleapis.com/christian_vladimir_sucuzhanay_bucket/pictures_videos/pic{:03d}.jpeg9jpeg',\n",
       " 'https://storage.googleapis.com/christian_vladimir_sucuzhanay_bucket/pictures_videos/pic{:03d}.jpeg0jpeg',\n",
       " 'https://storage.googleapis.com/christian_vladimir_sucuzhanay_bucket/pictures_videos/pic{:03d}.jpeg1jpeg',\n",
       " 'https://storage.googleapis.com/christian_vladimir_sucuzhanay_bucket/pictures_videos/pic{:03d}.jpeg2jpeg',\n",
       " 'https://storage.googleapis.com/christian_vladimir_sucuzhanay_bucket/pictures_videos/pic{:03d}.jpeg3jpeg',\n",
       " 'https://storage.googleapis.com/christian_vladimir_sucuzhanay_bucket/pictures_videos/pic{:03d}.jpeg4jpeg',\n",
       " 'https://storage.googleapis.com/christian_vladimir_sucuzhanay_bucket/pictures_videos/pic{:03d}.jpeg5jpeg',\n",
       " 'https://storage.googleapis.com/christian_vladimir_sucuzhanay_bucket/pictures_videos/pic{:03d}.jpeg6jpeg',\n",
       " 'https://storage.googleapis.com/christian_vladimir_sucuzhanay_bucket/pictures_videos/pic{:03d}.jpeg7jpeg',\n",
       " 'https://storage.googleapis.com/christian_vladimir_sucuzhanay_bucket/pictures_videos/pic{:03d}.jpeg8jpeg',\n",
       " 'https://storage.googleapis.com/christian_vladimir_sucuzhanay_bucket/pictures_videos/pic{:03d}.jpeg9jpeg',\n",
       " 'https://storage.googleapis.com/christian_vladimir_sucuzhanay_bucket/pictures_videos/pic{:03d}.jpeg0jpeg',\n",
       " 'https://storage.googleapis.com/christian_vladimir_sucuzhanay_bucket/pictures_videos/pic{:03d}.jpeg1jpeg',\n",
       " 'https://storage.googleapis.com/christian_vladimir_sucuzhanay_bucket/pictures_videos/pic{:03d}.jpeg2jpeg',\n",
       " 'https://storage.googleapis.com/christian_vladimir_sucuzhanay_bucket/pictures_videos/pic{:03d}.jpeg3jpeg',\n",
       " 'https://storage.googleapis.com/christian_vladimir_sucuzhanay_bucket/pictures_videos/pic{:03d}.jpeg4jpeg',\n",
       " 'https://storage.googleapis.com/christian_vladimir_sucuzhanay_bucket/pictures_videos/pic{:03d}.jpeg5jpeg',\n",
       " 'https://storage.googleapis.com/christian_vladimir_sucuzhanay_bucket/pictures_videos/pic{:03d}.jpeg6jpeg',\n",
       " 'https://storage.googleapis.com/christian_vladimir_sucuzhanay_bucket/pictures_videos/pic{:03d}.jpeg7jpeg',\n",
       " 'https://storage.googleapis.com/christian_vladimir_sucuzhanay_bucket/pictures_videos/pic{:03d}.jpeg8jpeg',\n",
       " 'https://storage.googleapis.com/christian_vladimir_sucuzhanay_bucket/pictures_videos/pic{:03d}.jpeg9jpeg']"
      ]
     },
     "execution_count": 20,
     "metadata": {},
     "output_type": "execute_result"
    }
   ],
   "source": [
    "a_url"
   ]
  },
  {
   "cell_type": "code",
   "execution_count": 21,
   "id": "8bf8230d-3266-44c4-9319-82f751ee2830",
   "metadata": {},
   "outputs": [
    {
     "ename": "SyntaxError",
     "evalue": "invalid syntax (1248069577.py, line 2)",
     "output_type": "error",
     "traceback": [
      "\u001b[1;36m  Cell \u001b[1;32mIn[21], line 2\u001b[1;36m\u001b[0m\n\u001b[1;33m    total bytes = 0\u001b[0m\n\u001b[1;37m          ^\u001b[0m\n\u001b[1;31mSyntaxError\u001b[0m\u001b[1;31m:\u001b[0m invalid syntax\n"
     ]
    }
   ],
   "source": [
    "def seq_download_images(image_numbers):\n",
    "    total bytes = 0\n",
    "    for num in image_numbers:\n",
    "        total_bytes += _download_image(num)\n",
    "        return total_bytes"
   ]
  },
  {
   "cell_type": "code",
   "execution_count": null,
   "id": "31ca6541-c520-44ba-8817-08187fdea389",
   "metadata": {},
   "outputs": [],
   "source": [
    "def _download_image(num):\n",
    "    \n",
    "    "
   ]
  }
 ],
 "metadata": {
  "kernelspec": {
   "display_name": "Python 3 (ipykernel)",
   "language": "python",
   "name": "python3"
  },
  "language_info": {
   "codemirror_mode": {
    "name": "ipython",
    "version": 3
   },
   "file_extension": ".py",
   "mimetype": "text/x-python",
   "name": "python",
   "nbconvert_exporter": "python",
   "pygments_lexer": "ipython3",
   "version": "3.11.5"
  }
 },
 "nbformat": 4,
 "nbformat_minor": 5
}
