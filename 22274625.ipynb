{
 "cells": [
  {
   "cell_type": "code",
   "execution_count": 1,
   "id": "74c239eb-8843-4da2-8294-5cdbad8293b0",
   "metadata": {},
   "outputs": [
    {
     "name": "stdout",
     "output_type": "stream",
     "text": [
      "Collecting python3-nmap\n",
      "  Downloading python3_nmap-1.6.0-py3-none-any.whl (26 kB)\n",
      "Collecting simplejson (from python3-nmap)\n",
      "  Downloading simplejson-3.19.1-cp311-cp311-win_amd64.whl (75 kB)\n",
      "     ---------------------------------------- 0.0/75.3 kB ? eta -:--:--\n",
      "     ----- ---------------------------------- 10.2/75.3 kB ? eta -:--:--\n",
      "     ----- ---------------------------------- 10.2/75.3 kB ? eta -:--:--\n",
      "     --------------- ---------------------- 30.7/75.3 kB 435.7 kB/s eta 0:00:01\n",
      "     --------------- ---------------------- 30.7/75.3 kB 435.7 kB/s eta 0:00:01\n",
      "     -------------------- ----------------- 41.0/75.3 kB 217.9 kB/s eta 0:00:01\n",
      "     ------------------------------------ - 71.7/75.3 kB 302.7 kB/s eta 0:00:01\n",
      "     -------------------------------------- 75.3/75.3 kB 297.2 kB/s eta 0:00:00\n",
      "Installing collected packages: simplejson, python3-nmap\n",
      "Successfully installed python3-nmap-1.6.0 simplejson-3.19.1\n"
     ]
    }
   ],
   "source": [
    "!pip install python3-nmap"
   ]
  },
  {
   "cell_type": "code",
   "execution_count": 3,
   "id": "3f7c1e2d-2555-4b78-a5d0-83352599f204",
   "metadata": {},
   "outputs": [],
   "source": [
    "import nmap3 as map"
   ]
  },
  {
   "cell_type": "code",
   "execution_count": 4,
   "id": "2e3478a1-debf-42d3-9e74-772b778f8c78",
   "metadata": {},
   "outputs": [],
   "source": [
    "import nmap3"
   ]
  },
  {
   "cell_type": "code",
   "execution_count": null,
   "id": "b1ba238f-351b-4335-b9a9-cbb8e40e3129",
   "metadata": {},
   "outputs": [],
   "source": []
  }
 ],
 "metadata": {
  "kernelspec": {
   "display_name": "Python 3 (ipykernel)",
   "language": "python",
   "name": "python3"
  },
  "language_info": {
   "codemirror_mode": {
    "name": "ipython",
    "version": 3
   },
   "file_extension": ".py",
   "mimetype": "text/x-python",
   "name": "python",
   "nbconvert_exporter": "python",
   "pygments_lexer": "ipython3",
   "version": "3.11.5"
  }
 },
 "nbformat": 4,
 "nbformat_minor": 5
}
