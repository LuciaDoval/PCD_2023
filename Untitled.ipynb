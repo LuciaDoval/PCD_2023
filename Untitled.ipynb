{
 "cells": [
  {
   "cell_type": "markdown",
   "id": "9b223efe-0845-4c70-ab16-99a79bdc46ed",
   "metadata": {},
   "source": [
    "# Primera clase PCD"
   ]
  },
  {
   "cell_type": "markdown",
   "id": "e542a53e-456c-4935-aecb-aeec29a859e5",
   "metadata": {},
   "source": [
    "1. Muestra que version de pip tiene?"
   ]
  },
  {
   "cell_type": "code",
   "execution_count": 1,
   "id": "d5060962-4671-499c-a0a5-aee0a7aeddd8",
   "metadata": {},
   "outputs": [
    {
     "name": "stdout",
     "output_type": "stream",
     "text": [
      "pip 23.2.1 from C:\\Users\\doval\\AppData\\Local\\Programs\\Python\\Python311\\Lib\\site-packages\\pip (python 3.11)\n",
      "\n"
     ]
    }
   ],
   "source": [
    "!pip --version"
   ]
  },
  {
   "cell_type": "markdown",
   "id": "772aefd6-52e5-4901-be16-2bcd1ecbec7c",
   "metadata": {},
   "source": [
    "## System Specs"
   ]
  },
  {
   "cell_type": "code",
   "execution_count": 2,
   "id": "4f22b306-5b33-4070-95ca-07c2a1c65cfb",
   "metadata": {},
   "outputs": [],
   "source": [
    "import platform as pt"
   ]
  },
  {
   "cell_type": "code",
   "execution_count": 5,
   "id": "c8abf59f-7990-4d86-bde1-348308bd2219",
   "metadata": {},
   "outputs": [
    {
     "data": {
      "text/plain": [
       "uname_result(system='Windows', node='LAPTOP-R266HJ25', release='10', version='10.0.22621', machine='AMD64')"
      ]
     },
     "execution_count": 5,
     "metadata": {},
     "output_type": "execute_result"
    }
   ],
   "source": [
    "pt.uname()"
   ]
  },
  {
   "cell_type": "code",
   "execution_count": 6,
   "id": "23bbf956-5b6b-4252-8fa6-63b64805f5f3",
   "metadata": {},
   "outputs": [
    {
     "data": {
      "text/plain": [
       "'Windows-10-10.0.22621-SP0'"
      ]
     },
     "execution_count": 6,
     "metadata": {},
     "output_type": "execute_result"
    }
   ],
   "source": [
    "pt.platform()"
   ]
  },
  {
   "cell_type": "markdown",
   "id": "ec08e8ae-d821-4956-a66e-8a17b7eef808",
   "metadata": {},
   "source": [
    "### Cores ?"
   ]
  },
  {
   "cell_type": "code",
   "execution_count": 7,
   "id": "316309cf-fa05-4a0f-a165-3fc7897596cf",
   "metadata": {},
   "outputs": [],
   "source": [
    "import os"
   ]
  },
  {
   "cell_type": "code",
   "execution_count": 8,
   "id": "9e486172-3316-4bd9-94f1-9fa8d60f05c9",
   "metadata": {},
   "outputs": [
    {
     "data": {
      "text/plain": [
       "4"
      ]
     },
     "execution_count": 8,
     "metadata": {},
     "output_type": "execute_result"
    }
   ],
   "source": [
    "os.cpu_count()"
   ]
  },
  {
   "cell_type": "code",
   "execution_count": null,
   "id": "0a04394f-6712-423a-983d-4b05b0ad39fd",
   "metadata": {},
   "outputs": [],
   "source": []
  }
 ],
 "metadata": {
  "kernelspec": {
   "display_name": "Python 3 (ipykernel)",
   "language": "python",
   "name": "python3"
  },
  "language_info": {
   "codemirror_mode": {
    "name": "ipython",
    "version": 3
   },
   "file_extension": ".py",
   "mimetype": "text/x-python",
   "name": "python",
   "nbconvert_exporter": "python",
   "pygments_lexer": "ipython3",
   "version": "3.11.5"
  }
 },
 "nbformat": 4,
 "nbformat_minor": 5
}
