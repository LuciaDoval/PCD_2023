{
 "cells": [
  {
   "cell_type": "markdown",
   "id": "9b223efe-0845-4c70-ab16-99a79bdc46ed",
   "metadata": {},
   "source": [
    "# Primera clase PCD"
   ]
  },
  {
   "cell_type": "markdown",
   "id": "e542a53e-456c-4935-aecb-aeec29a859e5",
   "metadata": {},
   "source": [
    "1. Muestra que version de pip tiene?"
   ]
  },
  {
   "cell_type": "code",
   "execution_count": 1,
   "id": "d5060962-4671-499c-a0a5-aee0a7aeddd8",
   "metadata": {},
   "outputs": [
    {
     "name": "stdout",
     "output_type": "stream",
     "text": [
      "pip 23.2.1 from C:\\Users\\doval\\AppData\\Local\\Programs\\Python\\Python311\\Lib\\site-packages\\pip (python 3.11)\n",
      "\n"
     ]
    }
   ],
   "source": [
    "!pip --version"
   ]
  },
  {
   "cell_type": "markdown",
   "id": "772aefd6-52e5-4901-be16-2bcd1ecbec7c",
   "metadata": {},
   "source": [
    "## System Specs"
   ]
  },
  {
   "cell_type": "code",
   "execution_count": 2,
   "id": "4f22b306-5b33-4070-95ca-07c2a1c65cfb",
   "metadata": {},
   "outputs": [],
   "source": [
    "import platform as pt"
   ]
  },
  {
   "cell_type": "code",
   "execution_count": 5,
   "id": "c8abf59f-7990-4d86-bde1-348308bd2219",
   "metadata": {},
   "outputs": [
    {
     "data": {
      "text/plain": [
       "uname_result(system='Windows', node='LAPTOP-R266HJ25', release='10', version='10.0.22621', machine='AMD64')"
      ]
     },
     "execution_count": 5,
     "metadata": {},
     "output_type": "execute_result"
    }
   ],
   "source": [
    "pt.uname()"
   ]
  },
  {
   "cell_type": "code",
   "execution_count": 6,
   "id": "23bbf956-5b6b-4252-8fa6-63b64805f5f3",
   "metadata": {},
   "outputs": [
    {
     "data": {
      "text/plain": [
       "'Windows-10-10.0.22621-SP0'"
      ]
     },
     "execution_count": 6,
     "metadata": {},
     "output_type": "execute_result"
    }
   ],
   "source": [
    "pt.platform()"
   ]
  },
  {
   "cell_type": "markdown",
   "id": "ec08e8ae-d821-4956-a66e-8a17b7eef808",
   "metadata": {},
   "source": [
    "### Cores ?"
   ]
  },
  {
   "cell_type": "code",
   "execution_count": 7,
   "id": "316309cf-fa05-4a0f-a165-3fc7897596cf",
   "metadata": {},
   "outputs": [],
   "source": [
    "import os"
   ]
  },
  {
   "cell_type": "code",
   "execution_count": 8,
   "id": "9e486172-3316-4bd9-94f1-9fa8d60f05c9",
   "metadata": {},
   "outputs": [
    {
     "data": {
      "text/plain": [
       "4"
      ]
     },
     "execution_count": 8,
     "metadata": {},
     "output_type": "execute_result"
    }
   ],
   "source": [
    "os.cpu_count()"
   ]
  },
  {
   "cell_type": "markdown",
   "id": "5d69a9e1-80bd-4d2b-9167-7a8909c6b254",
   "metadata": {},
   "source": [
    "### Bases de Datos ?"
   ]
  },
  {
   "cell_type": "markdown",
   "id": "b6f82c50-de8a-474d-9202-c45b43deec12",
   "metadata": {},
   "source": [
    "No sql (mas rapido) mejor concurrencia -> ACID || Sql Las relacionales no garantizan la concurrencia) -> BASE(básicamente y eventualmente consistente)"
   ]
  },
  {
   "cell_type": "markdown",
   "id": "d5c037d4-dfe5-4dd2-ac5f-5166dc7087c4",
   "metadata": {},
   "source": [
    "#### 3/Oct/2023\n",
    "##### Threads"
   ]
  },
  {
   "cell_type": "markdown",
   "id": "72e55b09-7208-4727-8d3b-a54de2810841",
   "metadata": {},
   "source": [
    "###### Import libs, manage threads"
   ]
  },
  {
   "cell_type": "code",
   "execution_count": 40,
   "id": "3512aa12-8634-46fb-8725-245838600294",
   "metadata": {},
   "outputs": [],
   "source": [
    "import threading as th"
   ]
  },
  {
   "cell_type": "code",
   "execution_count": 4,
   "id": "0bbb5d6c-3fcd-4b4e-964d-290f289060f5",
   "metadata": {},
   "outputs": [
    {
     "data": {
      "text/plain": [
       "6"
      ]
     },
     "execution_count": 4,
     "metadata": {},
     "output_type": "execute_result"
    }
   ],
   "source": [
    "th.active_count()"
   ]
  },
  {
   "cell_type": "code",
   "execution_count": 11,
   "id": "1de396ea-b8f5-4a8d-ac82-ec38cf7d44d4",
   "metadata": {},
   "outputs": [
    {
     "data": {
      "text/plain": [
       "<_MainThread(MainThread, started 20820)>"
      ]
     },
     "execution_count": 11,
     "metadata": {},
     "output_type": "execute_result"
    }
   ],
   "source": [
    "th.current_thread()"
   ]
  },
  {
   "cell_type": "code",
   "execution_count": 13,
   "id": "928105cb-602b-4932-bbff-f86248d3804c",
   "metadata": {},
   "outputs": [
    {
     "data": {
      "text/plain": [
       "<bound method Thread.getName of <_MainThread(MainThread, started 20820)>>"
      ]
     },
     "execution_count": 13,
     "metadata": {},
     "output_type": "execute_result"
    }
   ],
   "source": [
    "th.current_thread().getName"
   ]
  },
  {
   "cell_type": "code",
   "execution_count": 5,
   "id": "04f45ca5-4f12-47c1-a74a-e7b381515c94",
   "metadata": {},
   "outputs": [
    {
     "data": {
      "text/plain": [
       "[<_MainThread(MainThread, started 5664)>,\n",
       " <Thread(IOPub, started daemon 8232)>,\n",
       " <Heartbeat(Heartbeat, started daemon 1536)>,\n",
       " <ControlThread(Control, started daemon 7888)>,\n",
       " <HistorySavingThread(IPythonHistorySavingThread, started 13332)>,\n",
       " <ParentPollerWindows(Thread-4, started daemon 11584)>]"
      ]
     },
     "execution_count": 5,
     "metadata": {},
     "output_type": "execute_result"
    }
   ],
   "source": [
    "th.enumerate()"
   ]
  },
  {
   "cell_type": "markdown",
   "id": "470842ef-c2a5-44d3-805e-b4b3364eccfe",
   "metadata": {},
   "source": [
    "// Los hilos demonio no pueden morir, los hilos heartbeat avisan cuando una parte del programa deja de responder, para evitar deadlock y livelocks"
   ]
  },
  {
   "cell_type": "markdown",
   "id": "2099f414-4f31-45ca-b35f-9bef166a5659",
   "metadata": {},
   "source": [
    "#### Cual es el padre?"
   ]
  },
  {
   "cell_type": "code",
   "execution_count": 6,
   "id": "7382e318-5aeb-4ac9-8a8a-5568255c564b",
   "metadata": {},
   "outputs": [],
   "source": [
    "import os"
   ]
  },
  {
   "cell_type": "code",
   "execution_count": 9,
   "id": "597605a4-f991-4a45-87aa-a99505daf209",
   "metadata": {},
   "outputs": [
    {
     "data": {
      "text/plain": [
       "9724"
      ]
     },
     "execution_count": 9,
     "metadata": {},
     "output_type": "execute_result"
    }
   ],
   "source": [
    "os.getpid()"
   ]
  },
  {
   "cell_type": "code",
   "execution_count": 26,
   "id": "652538b7-f939-45f4-9074-693770c8184f",
   "metadata": {},
   "outputs": [],
   "source": [
    "from IPython import display as dp"
   ]
  },
  {
   "cell_type": "code",
   "execution_count": 24,
   "id": "6a2e4fbd-7f05-4b88-8057-53a00a0a00a6",
   "metadata": {},
   "outputs": [
    {
     "data": {
      "image/png": "[encoded data removed]",
      "text/plain": [
       "<IPython.core.display.Image object>"
      ]
     },
     "execution_count": 24,
     "metadata": {},
     "output_type": "execute_result"
    }
   ],
   "source": [
    "dp.Image(\"Documents/5_oct_2023.png\")"
   ]
  },
  {
   "cell_type": "markdown",
   "id": "89e93365-3e1c-42a1-ae03-b26e2933f1a0",
   "metadata": {},
   "source": [
    "#### Cuantos hilos puedo instanciar?"
   ]
  },
  {
   "cell_type": "markdown",
   "id": "7a43fc9c-706e-4525-9f1b-4ec99930e454",
   "metadata": {},
   "source": [
    "Los hilos están limitados al hardware, phyton tiene una particularidad, dependiendo del interprete tienes un numero de hilos"
   ]
  },
  {
   "cell_type": "markdown",
   "id": "f839c137-afcf-4402-83be-af7239363e36",
   "metadata": {},
   "source": [
    "# threads vs process"
   ]
  },
  {
   "cell_type": "code",
   "execution_count": 3,
   "id": "76a52d72-952b-4b56-8c29-35ab22a3b894",
   "metadata": {},
   "outputs": [],
   "source": [
    "def do_nothing():\n",
    "    while True:\n",
    "        pass"
   ]
  },
  {
   "cell_type": "code",
   "execution_count": 33,
   "id": "5534d47a-eb0c-4000-980a-75ae28fd1a5e",
   "metadata": {},
   "outputs": [
    {
     "data": {
      "text/plain": [
       "[<_MainThread(MainThread, started 20820)>,\n",
       " <Thread(IOPub, started daemon 9108)>,\n",
       " <Heartbeat(Heartbeat, started daemon 892)>,\n",
       " <ControlThread(Control, started daemon 14216)>,\n",
       " <HistorySavingThread(IPythonHistorySavingThread, started 7448)>,\n",
       " <ParentPollerWindows(Thread-4, started daemon 17928)>,\n",
       " <Thread(Thread-45 (do_nothing), started 4012)>,\n",
       " <Thread(Thread-46 (do_nothing), started 16748)>,\n",
       " <Thread(Thread-47 (do_nothing), started 9936)>,\n",
       " <Thread(Thread-48 (do_nothing), started 16396)>,\n",
       " <Thread(Thread-49 (do_nothing), started 2432)>,\n",
       " <Thread(Thread-50 (do_nothing), started 6792)>,\n",
       " <Thread(Thread-51 (do_nothing), started 2388)>,\n",
       " <Thread(Thread-52 (do_nothing), started 8732)>,\n",
       " <Thread(Thread-53 (do_nothing), started 16176)>,\n",
       " <Thread(Thread-54 (do_nothing), started 8020)>,\n",
       " <Thread(Thread-55 (do_nothing), started 10616)>,\n",
       " <Thread(Thread-56 (do_nothing), started 17324)>,\n",
       " <Thread(Thread-57 (do_nothing), started 12336)>,\n",
       " <Thread(Thread-58 (do_nothing), started 14156)>,\n",
       " <Thread(Thread-59 (do_nothing), started 12500)>,\n",
       " <Thread(Thread-60 (do_nothing), started 2008)>,\n",
       " <Thread(Thread-61 (do_nothing), started 17696)>,\n",
       " <Thread(Thread-62 (do_nothing), started 13384)>,\n",
       " <Thread(Thread-63 (do_nothing), started 18048)>,\n",
       " <Thread(Thread-64 (do_nothing), started 5816)>]"
      ]
     },
     "execution_count": 33,
     "metadata": {},
     "output_type": "execute_result"
    }
   ],
   "source": [
    "for i in range(20):\n",
    "    th.Thread(target=do_nothing).start()\n",
    "\n",
    "th.enumerate()"
   ]
  },
  {
   "cell_type": "markdown",
   "id": "afe7fb93-2f59-4dc1-b79f-203a4f4412a5",
   "metadata": {},
   "source": [
    "## Process"
   ]
  },
  {
   "cell_type": "code",
   "execution_count": 5,
   "id": "0fa62c93-647c-4ff6-b466-e076350524ac",
   "metadata": {},
   "outputs": [],
   "source": [
    "for i in range(10):\n",
    "    mp.Process (target = do_nothing).start"
   ]
  },
  {
   "cell_type": "markdown",
   "id": "279489ec-2097-4a0c-80db-7da1d7999dc1",
   "metadata": {},
   "source": [
    "#### Import libs, manage process(cores)"
   ]
  },
  {
   "cell_type": "code",
   "execution_count": 1,
   "id": "a48cf865-51f8-491d-ae7a-2abbc093ab55",
   "metadata": {},
   "outputs": [],
   "source": [
    "import multiprocessing as mp # manages cores"
   ]
  },
  {
   "cell_type": "code",
   "execution_count": 10,
   "id": "eee8f1f4-b571-418f-ba4e-fbaa7c212260",
   "metadata": {},
   "outputs": [
    {
     "data": {
      "text/plain": [
       "4"
      ]
     },
     "execution_count": 10,
     "metadata": {},
     "output_type": "execute_result"
    }
   ],
   "source": [
    "mp.cpu_count()"
   ]
  },
  {
   "cell_type": "code",
   "execution_count": 11,
   "id": "8f7b484e-2ba5-49ba-a70c-ca94b6c2fc0f",
   "metadata": {},
   "outputs": [
    {
     "data": {
      "text/plain": [
       "<_MainProcess name='MainProcess' parent=None started>"
      ]
     },
     "execution_count": 11,
     "metadata": {},
     "output_type": "execute_result"
    }
   ],
   "source": [
    "mp.current_process()"
   ]
  },
  {
   "cell_type": "markdown",
   "id": "0fefee95-4dd7-4450-a344-ef9a7616336c",
   "metadata": {},
   "source": [
    "#### Cual es el interprete de Phyton?"
   ]
  },
  {
   "cell_type": "code",
   "execution_count": 16,
   "id": "d29d9cd6-40b4-49e9-a4fe-771c6cb14c4b",
   "metadata": {},
   "outputs": [
    {
     "name": "stdout",
     "output_type": "stream",
     "text": [
      "Python 3.11.5\n"
     ]
    }
   ],
   "source": [
    "! python3 --version"
   ]
  },
  {
   "cell_type": "code",
   "execution_count": 17,
   "id": "81a64ad0-0cd0-4c22-9034-e8785ab131fb",
   "metadata": {},
   "outputs": [],
   "source": [
    "import  platform as pt"
   ]
  },
  {
   "cell_type": "code",
   "execution_count": 19,
   "id": "7ddbe2be-50d8-41bb-a5dd-9a42bae239b7",
   "metadata": {},
   "outputs": [
    {
     "data": {
      "text/plain": [
       "'CPython'"
      ]
     },
     "execution_count": 19,
     "metadata": {},
     "output_type": "execute_result"
    }
   ],
   "source": [
    "pt.python_implementation()"
   ]
  },
  {
   "cell_type": "code",
   "execution_count": 25,
   "id": "df983663-cf6b-47cb-8cc4-faf55253c1a0",
   "metadata": {},
   "outputs": [
    {
     "data": {
      "text/plain": [
       "'MSC v.1936 64 bit (AMD64)'"
      ]
     },
     "execution_count": 25,
     "metadata": {},
     "output_type": "execute_result"
    }
   ],
   "source": [
    "pt.python_compiler()"
   ]
  },
  {
   "cell_type": "code",
   "execution_count": 26,
   "id": "dc24ebad-ca03-4faa-b613-b51a27046712",
   "metadata": {},
   "outputs": [
    {
     "data": {
      "text/plain": [
       "[[1, 2, 3, 4], [46, 7, 5]]"
      ]
     },
     "execution_count": 26,
     "metadata": {},
     "output_type": "execute_result"
    }
   ],
   "source": [
    "[[1,2,3,4], [46,7,5]]"
   ]
  },
  {
   "cell_type": "markdown",
   "id": "bcc91cac-06a6-456c-8138-2a9e547e8172",
   "metadata": {},
   "source": [
    "Computo-> Cores, E/S -> hilos"
   ]
  },
  {
   "cell_type": "code",
   "execution_count": null,
   "id": "91e905eb-da99-4a61-9c75-afaebc995750",
   "metadata": {},
   "outputs": [],
   "source": []
  },
  {
   "cell_type": "markdown",
   "id": "5b5a0709-8a38-4590-ad34-46df32e789ed",
   "metadata": {},
   "source": [
    " "
   ]
  }
 ],
 "metadata": {
  "kernelspec": {
   "display_name": "Python 3 (ipykernel)",
   "language": "python",
   "name": "python3"
  },
  "language_info": {
   "codemirror_mode": {
    "name": "ipython",
    "version": 3
   },
   "file_extension": ".py",
   "mimetype": "text/x-python",
   "name": "python",
   "nbconvert_exporter": "python",
   "pygments_lexer": "ipython3",
   "version": "3.11.5"
  }
 },
 "nbformat": 4,
 "nbformat_minor": 5
}
